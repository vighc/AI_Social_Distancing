{
  "nbformat": 4,
  "nbformat_minor": 0,
  "metadata": {
    "colab": {
      "provenance": [],
      "authorship_tag": "ABX9TyMCBHdshOdxixvxIetX5T8j",
      "include_colab_link": true
    },
    "kernelspec": {
      "name": "python3",
      "display_name": "Python 3"
    },
    "language_info": {
      "name": "python"
    }
  },
  "cells": [
    {
      "cell_type": "markdown",
      "metadata": {
        "id": "view-in-github",
        "colab_type": "text"
      },
      "source": [
        "<a href=\"https://colab.research.google.com/github/vighc/AI_Social_Distancing/blob/master/Kafka_Producer.ipynb\" target=\"_parent\"><img src=\"https://colab.research.google.com/assets/colab-badge.svg\" alt=\"Open In Colab\"/></a>"
      ]
    },
    {
      "cell_type": "code",
      "source": [
        "#install kafka\n",
        "!pip install kafka-python"
      ],
      "metadata": {
        "id": "_ciAuyVyuUV3"
      },
      "execution_count": null,
      "outputs": []
    },
    {
      "cell_type": "code",
      "source": [
        "from kafka import KafkaProducer\n",
        "from json import dumps, loads"
      ],
      "metadata": {
        "id": "-TVhDLFowLeI"
      },
      "execution_count": 96,
      "outputs": []
    },
    {
      "cell_type": "code",
      "source": [
        "producer = KafkaProducer(bootstrap_servers=['13.235.94.181:9092'],\n",
        "                         value_serializer=lambda x: dumps(x).encode('utf-8'))"
      ],
      "metadata": {
        "id": "IDA-HoCSK8ur"
      },
      "execution_count": 101,
      "outputs": []
    },
    {
      "cell_type": "code",
      "source": [
        "!wget https://github.com/datablist/sample-csv-files/raw/main/files/organizations/organizations-100.csv"
      ],
      "metadata": {
        "colab": {
          "base_uri": "https://localhost:8080/"
        },
        "id": "v9dHZjjSKhQX",
        "outputId": "79b09831-4621-49f6-a17b-e58619eff2d1"
      },
      "execution_count": 99,
      "outputs": [
        {
          "output_type": "stream",
          "name": "stdout",
          "text": [
            "--2023-08-12 11:13:24--  https://github.com/datablist/sample-csv-files/raw/main/files/organizations/organizations-100.csv\n",
            "Resolving github.com (github.com)... 140.82.121.3\n",
            "Connecting to github.com (github.com)|140.82.121.3|:443... connected.\n",
            "HTTP request sent, awaiting response... 302 Found\n",
            "Location: https://media.githubusercontent.com/media/datablist/sample-csv-files/main/files/organizations/organizations-100.csv [following]\n",
            "--2023-08-12 11:13:24--  https://media.githubusercontent.com/media/datablist/sample-csv-files/main/files/organizations/organizations-100.csv\n",
            "Resolving media.githubusercontent.com (media.githubusercontent.com)... 185.199.110.133, 185.199.108.133, 185.199.111.133, ...\n",
            "Connecting to media.githubusercontent.com (media.githubusercontent.com)|185.199.110.133|:443... connected.\n",
            "HTTP request sent, awaiting response... 200 OK\n",
            "Length: 13873 (14K) [text/plain]\n",
            "Saving to: ‘organizations-100.csv’\n",
            "\n",
            "organizations-100.c 100%[===================>]  13.55K  --.-KB/s    in 0.001s  \n",
            "\n",
            "2023-08-12 11:13:24 (18.3 MB/s) - ‘organizations-100.csv’ saved [13873/13873]\n",
            "\n"
          ]
        }
      ]
    },
    {
      "cell_type": "code",
      "source": [
        "data=open('organizations-100.csv','r')\n",
        "for i in data.read().splitlines() :\n",
        "  producer.send('kafka-demo-topic-3', i)\n",
        "producer.flush()"
      ],
      "metadata": {
        "id": "EddnGGjrL583"
      },
      "execution_count": 100,
      "outputs": []
    },
    {
      "cell_type": "code",
      "source": [],
      "metadata": {
        "id": "53Hx0pzGT5Eh"
      },
      "execution_count": null,
      "outputs": []
    }
  ]
}