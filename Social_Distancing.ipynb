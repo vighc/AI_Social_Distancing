{
  "nbformat": 4,
  "nbformat_minor": 0,
  "metadata": {
    "colab": {
      "name": "Social Distancing.ipynb",
      "provenance": [],
      "private_outputs": true,
      "authorship_tag": "ABX9TyP8QMjSuQsgXChqZ9zA9WQO",
      "include_colab_link": true
    },
    "kernelspec": {
      "name": "python3",
      "display_name": "Python 3"
    },
    "accelerator": "GPU"
  },
  "cells": [
    {
      "cell_type": "markdown",
      "metadata": {
        "id": "view-in-github",
        "colab_type": "text"
      },
      "source": [
        "<a href=\"https://colab.research.google.com/github/vighc/AI_Social_Distancing/blob/master/Social_Distancing.ipynb\" target=\"_parent\"><img src=\"https://colab.research.google.com/assets/colab-badge.svg\" alt=\"Open In Colab\"/></a>"
      ]
    },
    {
      "cell_type": "code",
      "metadata": {
        "id": "xx_amz_LpXsM",
        "colab_type": "code",
        "colab": {}
      },
      "source": [
        "%cd \n",
        "!git clone https://github.com/vighc/AI_Social_Distancing.git"
      ],
      "execution_count": null,
      "outputs": []
    },
    {
      "cell_type": "code",
      "metadata": {
        "id": "CL-F0bi7ErpS",
        "colab_type": "code",
        "colab": {}
      },
      "source": [
        "%cd AI_Social_Distancing\n",
        "!ls"
      ],
      "execution_count": null,
      "outputs": []
    },
    {
      "cell_type": "code",
      "metadata": {
        "id": "9kUDDY3VEiYw",
        "colab_type": "code",
        "colab": {}
      },
      "source": [
        "!python download.py"
      ],
      "execution_count": null,
      "outputs": []
    },
    {
      "cell_type": "code",
      "metadata": {
        "id": "hzOZwYWcFDdq",
        "colab_type": "code",
        "colab": {}
      },
      "source": [
        "!python Social_Distancing.py"
      ],
      "execution_count": null,
      "outputs": []
    }
  ]
}